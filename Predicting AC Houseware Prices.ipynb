{
 "cells": [
  {
   "cell_type": "markdown",
   "id": "316ca3d0",
   "metadata": {},
   "source": [
    "# Predicting Animal Crossing Item Prices\n",
    "\n",
    "Animal Crossing is a cute lifestyle game where you create your own island and customize it by crafting and buying different items. \n",
    "\n",
    "What factors determine item prices? Is it the type of item? Is it whether the item is craftable? Maybe it's the ability to interact with it? \n",
    "\n",
    "I try to find out what qualities an item has that determines its price by creating a correlation heatmap and then I create a KNN and Linear Regression machine learning model using correlated features to find out!\n",
    "\n",
    "Dataset is from: https://www.kaggle.com/datasets/jessicali9530/animal-crossing-new-horizons-nookplaza-dataset"
   ]
  },
  {
   "cell_type": "code",
   "execution_count": 637,
   "id": "2cd57853",
   "metadata": {},
   "outputs": [],
   "source": [
    "#Importing all necessary packages\n",
    "import pandas as pd\n",
    "import numpy as np\n",
    "import matplotlib as plt\n",
    "import seaborn as sns\n",
    "from sklearn.neighbors import KNeighborsRegressor\n",
    "from sklearn.metrics import mean_squared_error"
   ]
  },
  {
   "cell_type": "markdown",
   "id": "de07d48e",
   "metadata": {},
   "source": [
    "# Predicting Houseware Prices\n",
    "\n",
    "We're predicting houseware prices because it is the largest dataset of items within the Animal Crossing item catalog.\n",
    "\n",
    "First, we read in the data and explore it to figure out what needs to be cleaned."
   ]
  },
  {
   "cell_type": "code",
   "execution_count": 638,
   "id": "2133065d",
   "metadata": {
    "scrolled": true
   },
   "outputs": [
    {
     "name": "stdout",
     "output_type": "stream",
     "text": [
      "<class 'pandas.core.frame.DataFrame'>\n",
      "RangeIndex: 3275 entries, 0 to 3274\n",
      "Data columns (total 32 columns):\n",
      " #   Column             Non-Null Count  Dtype  \n",
      "---  ------             --------------  -----  \n",
      " 0   Name               3275 non-null   object \n",
      " 1   Variation          3074 non-null   object \n",
      " 2   Body Title         1182 non-null   object \n",
      " 3   Pattern            1508 non-null   object \n",
      " 4   Pattern Title      1508 non-null   object \n",
      " 5   DIY                3275 non-null   object \n",
      " 6   Body Customize     3275 non-null   object \n",
      " 7   Pattern Customize  3275 non-null   object \n",
      " 8   Kit Cost           2239 non-null   float64\n",
      " 9   Buy                3275 non-null   object \n",
      " 10  Sell               3275 non-null   int64  \n",
      " 11  Color 1            3275 non-null   object \n",
      " 12  Color 2            3275 non-null   object \n",
      " 13  Size               3275 non-null   object \n",
      " 14  Miles Price        115 non-null    float64\n",
      " 15  Source             3275 non-null   object \n",
      " 16  Source Notes       1870 non-null   object \n",
      " 17  Version            3275 non-null   object \n",
      " 18  HHA Concept 1      3275 non-null   object \n",
      " 19  HHA Concept 2      3275 non-null   object \n",
      " 20  HHA Series         3275 non-null   object \n",
      " 21  HHA Set            3275 non-null   object \n",
      " 22  Interact           3275 non-null   object \n",
      " 23  Tag                3275 non-null   object \n",
      " 24  Outdoor            3275 non-null   object \n",
      " 25  Speaker Type       3275 non-null   object \n",
      " 26  Lighting Type      3275 non-null   object \n",
      " 27  Catalog            3275 non-null   object \n",
      " 28  Filename           3275 non-null   object \n",
      " 29  Variant ID         3153 non-null   object \n",
      " 30  Internal ID        3275 non-null   int64  \n",
      " 31  Unique Entry ID    3275 non-null   object \n",
      "dtypes: float64(2), int64(2), object(28)\n",
      "memory usage: 818.9+ KB\n"
     ]
    }
   ],
   "source": [
    "housewares = pd.read_csv(r'C:\\Users\\Isabella\\Documents\\Projects\\AC Price Predictor\\animal crossing catalog\\housewares.csv')\n",
    "housewares.info()"
   ]
  },
  {
   "cell_type": "code",
   "execution_count": 639,
   "id": "373699fb",
   "metadata": {
    "scrolled": false
   },
   "outputs": [
    {
     "data": {
      "text/html": [
       "<div>\n",
       "<style scoped>\n",
       "    .dataframe tbody tr th:only-of-type {\n",
       "        vertical-align: middle;\n",
       "    }\n",
       "\n",
       "    .dataframe tbody tr th {\n",
       "        vertical-align: top;\n",
       "    }\n",
       "\n",
       "    .dataframe thead th {\n",
       "        text-align: right;\n",
       "    }\n",
       "</style>\n",
       "<table border=\"1\" class=\"dataframe\">\n",
       "  <thead>\n",
       "    <tr style=\"text-align: right;\">\n",
       "      <th></th>\n",
       "      <th>Name</th>\n",
       "      <th>Variation</th>\n",
       "      <th>Body Title</th>\n",
       "      <th>Pattern</th>\n",
       "      <th>Pattern Title</th>\n",
       "      <th>DIY</th>\n",
       "      <th>Body Customize</th>\n",
       "      <th>Pattern Customize</th>\n",
       "      <th>Kit Cost</th>\n",
       "      <th>Buy</th>\n",
       "      <th>...</th>\n",
       "      <th>Interact</th>\n",
       "      <th>Tag</th>\n",
       "      <th>Outdoor</th>\n",
       "      <th>Speaker Type</th>\n",
       "      <th>Lighting Type</th>\n",
       "      <th>Catalog</th>\n",
       "      <th>Filename</th>\n",
       "      <th>Variant ID</th>\n",
       "      <th>Internal ID</th>\n",
       "      <th>Unique Entry ID</th>\n",
       "    </tr>\n",
       "  </thead>\n",
       "  <tbody>\n",
       "    <tr>\n",
       "      <th>0</th>\n",
       "      <td>acoustic guitar</td>\n",
       "      <td>Natural</td>\n",
       "      <td>Body</td>\n",
       "      <td>NaN</td>\n",
       "      <td>NaN</td>\n",
       "      <td>Yes</td>\n",
       "      <td>Yes</td>\n",
       "      <td>No</td>\n",
       "      <td>5.0</td>\n",
       "      <td>NFS</td>\n",
       "      <td>...</td>\n",
       "      <td>Yes</td>\n",
       "      <td>Musical Instrument</td>\n",
       "      <td>No</td>\n",
       "      <td>Does not play music</td>\n",
       "      <td>No lighting</td>\n",
       "      <td>Not for sale</td>\n",
       "      <td>FtrAcorsticguitar_Remake_0_0</td>\n",
       "      <td>0_0</td>\n",
       "      <td>383</td>\n",
       "      <td>EpywQXABBcv2dipsP</td>\n",
       "    </tr>\n",
       "    <tr>\n",
       "      <th>1</th>\n",
       "      <td>acoustic guitar</td>\n",
       "      <td>Cherry</td>\n",
       "      <td>Body</td>\n",
       "      <td>NaN</td>\n",
       "      <td>NaN</td>\n",
       "      <td>Yes</td>\n",
       "      <td>Yes</td>\n",
       "      <td>No</td>\n",
       "      <td>5.0</td>\n",
       "      <td>NFS</td>\n",
       "      <td>...</td>\n",
       "      <td>Yes</td>\n",
       "      <td>Musical Instrument</td>\n",
       "      <td>No</td>\n",
       "      <td>Does not play music</td>\n",
       "      <td>No lighting</td>\n",
       "      <td>Not for sale</td>\n",
       "      <td>FtrAcorsticguitar_Remake_1_0</td>\n",
       "      <td>1_0</td>\n",
       "      <td>383</td>\n",
       "      <td>K9she5Y4SuXA8MGBR</td>\n",
       "    </tr>\n",
       "    <tr>\n",
       "      <th>2</th>\n",
       "      <td>acoustic guitar</td>\n",
       "      <td>Brown</td>\n",
       "      <td>Body</td>\n",
       "      <td>NaN</td>\n",
       "      <td>NaN</td>\n",
       "      <td>Yes</td>\n",
       "      <td>Yes</td>\n",
       "      <td>No</td>\n",
       "      <td>5.0</td>\n",
       "      <td>NFS</td>\n",
       "      <td>...</td>\n",
       "      <td>Yes</td>\n",
       "      <td>Musical Instrument</td>\n",
       "      <td>No</td>\n",
       "      <td>Does not play music</td>\n",
       "      <td>No lighting</td>\n",
       "      <td>Not for sale</td>\n",
       "      <td>FtrAcorsticguitar_Remake_2_0</td>\n",
       "      <td>2_0</td>\n",
       "      <td>383</td>\n",
       "      <td>vLq9iphAvALBXazDr</td>\n",
       "    </tr>\n",
       "    <tr>\n",
       "      <th>3</th>\n",
       "      <td>acoustic guitar</td>\n",
       "      <td>Blue</td>\n",
       "      <td>Body</td>\n",
       "      <td>NaN</td>\n",
       "      <td>NaN</td>\n",
       "      <td>Yes</td>\n",
       "      <td>Yes</td>\n",
       "      <td>No</td>\n",
       "      <td>5.0</td>\n",
       "      <td>NFS</td>\n",
       "      <td>...</td>\n",
       "      <td>Yes</td>\n",
       "      <td>Musical Instrument</td>\n",
       "      <td>No</td>\n",
       "      <td>Does not play music</td>\n",
       "      <td>No lighting</td>\n",
       "      <td>Not for sale</td>\n",
       "      <td>FtrAcorsticguitar_Remake_3_0</td>\n",
       "      <td>3_0</td>\n",
       "      <td>383</td>\n",
       "      <td>nuqeFzNE5PneqGHaj</td>\n",
       "    </tr>\n",
       "    <tr>\n",
       "      <th>4</th>\n",
       "      <td>acoustic guitar</td>\n",
       "      <td>White</td>\n",
       "      <td>Body</td>\n",
       "      <td>NaN</td>\n",
       "      <td>NaN</td>\n",
       "      <td>Yes</td>\n",
       "      <td>Yes</td>\n",
       "      <td>No</td>\n",
       "      <td>5.0</td>\n",
       "      <td>NFS</td>\n",
       "      <td>...</td>\n",
       "      <td>Yes</td>\n",
       "      <td>Musical Instrument</td>\n",
       "      <td>No</td>\n",
       "      <td>Does not play music</td>\n",
       "      <td>No lighting</td>\n",
       "      <td>Not for sale</td>\n",
       "      <td>FtrAcorsticguitar_Remake_4_0</td>\n",
       "      <td>4_0</td>\n",
       "      <td>383</td>\n",
       "      <td>DotFsojrhCwrLZ3TF</td>\n",
       "    </tr>\n",
       "  </tbody>\n",
       "</table>\n",
       "<p>5 rows × 32 columns</p>\n",
       "</div>"
      ],
      "text/plain": [
       "              Name Variation Body Title Pattern Pattern Title  DIY  \\\n",
       "0  acoustic guitar   Natural       Body     NaN           NaN  Yes   \n",
       "1  acoustic guitar    Cherry       Body     NaN           NaN  Yes   \n",
       "2  acoustic guitar     Brown       Body     NaN           NaN  Yes   \n",
       "3  acoustic guitar      Blue       Body     NaN           NaN  Yes   \n",
       "4  acoustic guitar     White       Body     NaN           NaN  Yes   \n",
       "\n",
       "  Body Customize Pattern Customize  Kit Cost  Buy  ...  Interact  \\\n",
       "0            Yes                No       5.0  NFS  ...       Yes   \n",
       "1            Yes                No       5.0  NFS  ...       Yes   \n",
       "2            Yes                No       5.0  NFS  ...       Yes   \n",
       "3            Yes                No       5.0  NFS  ...       Yes   \n",
       "4            Yes                No       5.0  NFS  ...       Yes   \n",
       "\n",
       "                  Tag Outdoor         Speaker Type  Lighting Type  \\\n",
       "0  Musical Instrument      No  Does not play music    No lighting   \n",
       "1  Musical Instrument      No  Does not play music    No lighting   \n",
       "2  Musical Instrument      No  Does not play music    No lighting   \n",
       "3  Musical Instrument      No  Does not play music    No lighting   \n",
       "4  Musical Instrument      No  Does not play music    No lighting   \n",
       "\n",
       "        Catalog                      Filename Variant ID Internal ID  \\\n",
       "0  Not for sale  FtrAcorsticguitar_Remake_0_0        0_0         383   \n",
       "1  Not for sale  FtrAcorsticguitar_Remake_1_0        1_0         383   \n",
       "2  Not for sale  FtrAcorsticguitar_Remake_2_0        2_0         383   \n",
       "3  Not for sale  FtrAcorsticguitar_Remake_3_0        3_0         383   \n",
       "4  Not for sale  FtrAcorsticguitar_Remake_4_0        4_0         383   \n",
       "\n",
       "     Unique Entry ID  \n",
       "0  EpywQXABBcv2dipsP  \n",
       "1  K9she5Y4SuXA8MGBR  \n",
       "2  vLq9iphAvALBXazDr  \n",
       "3  nuqeFzNE5PneqGHaj  \n",
       "4  DotFsojrhCwrLZ3TF  \n",
       "\n",
       "[5 rows x 32 columns]"
      ]
     },
     "execution_count": 639,
     "metadata": {},
     "output_type": "execute_result"
    }
   ],
   "source": [
    "housewares.head()"
   ]
  },
  {
   "cell_type": "markdown",
   "id": "cb8d2ff3",
   "metadata": {},
   "source": [
    "## Removing unnecessary columns\n",
    "\n",
    "The following columns are Body/Pattern related with more than half NaN entries, unique ID numbers to each item, are notes for the developers (and thus do not have any bearing on the price of the item), or (in the case of the Color columns) they only state the colors of the object, which is already done in the Variation column. So they will not be considered for this project and will instead be dropped.\n",
    "\n",
    "- Body Title\n",
    "- Pattern\n",
    "- Pattern Title \n",
    "- Unique Entry ID \n",
    "- Internal ID \n",
    "- Variant ID\n",
    "- Filename\n",
    "- HHA Concept 1\n",
    "- HHA Concept 2 \n",
    "- HHA Series\n",
    "- HHA Set\n",
    "- Version \n",
    "- Source Notes\n",
    "- Color 1\n",
    "- Color 2\n",
    "- Kit Cost (not the price we're looking at for this project)\n",
    "- Sell (We are only considering the price to buy an item)\n",
    "- Lighting Type (The vast majority of the items are not lighting objects so this column does not contain very useful information)\n",
    "- Speaker Type (Same as the Lighting Type column)"
   ]
  },
  {
   "cell_type": "code",
   "execution_count": 640,
   "id": "05317c1d",
   "metadata": {},
   "outputs": [
    {
     "name": "stdout",
     "output_type": "stream",
     "text": [
      "Index(['Name', 'Variation', 'DIY', 'Body Customize', 'Pattern Customize',\n",
      "       'Buy', 'Size', 'Miles Price', 'Source', 'Interact', 'Tag', 'Outdoor',\n",
      "       'Catalog'],\n",
      "      dtype='object')\n"
     ]
    }
   ],
   "source": [
    "housewares = housewares.drop(['Body Title', 'Pattern', 'Pattern Title', 'Sell', 'Color 1', 'Color 2', 'Version', 'Source Notes', 'HHA Concept 1', 'HHA Concept 2', 'HHA Series', 'HHA Set', 'Unique Entry ID', 'Internal ID', 'Variant ID', 'Filename', 'Kit Cost', 'Speaker Type', 'Lighting Type'], axis=1)\n",
    "print(housewares.columns)"
   ]
  },
  {
   "cell_type": "markdown",
   "id": "509d4dc6",
   "metadata": {},
   "source": [
    "## Cleaning up the different item variations\n",
    "\n",
    "The code below shows the number of variations each item has. We don't want each of the variations since the price of each item is the same regardless of the variation--instead, we'd like to combine each variation of the item into one and then add the number of variations instead of considering each variation as its own item.\n",
    "\n",
    "To do this, we'll create a new column called  the `VariationCount` column with the number of variations, drop the `Variation` column, and then remove the duplicate rows. "
   ]
  },
  {
   "cell_type": "code",
   "execution_count": 641,
   "id": "f3251e48",
   "metadata": {},
   "outputs": [
    {
     "data": {
      "text/plain": [
       "simple panel            64\n",
       "changing room           64\n",
       "loft bed with desk      64\n",
       "rock guitar             64\n",
       "electric guitar         56\n",
       "                        ..\n",
       "silver mic               1\n",
       "simple DIY workbench     1\n",
       "simple well              1\n",
       "skeleton                 1\n",
       "sandbox                  1\n",
       "Name: Name, Length: 532, dtype: int64"
      ]
     },
     "execution_count": 641,
     "metadata": {},
     "output_type": "execute_result"
    }
   ],
   "source": [
    "housewares['Name'].value_counts()"
   ]
  },
  {
   "cell_type": "code",
   "execution_count": 642,
   "id": "cf781829",
   "metadata": {
    "scrolled": false
   },
   "outputs": [],
   "source": [
    "housewares['VariationCount'] = housewares['Name'].map(housewares['Name'].value_counts())"
   ]
  },
  {
   "cell_type": "code",
   "execution_count": 643,
   "id": "ad921bf9",
   "metadata": {},
   "outputs": [
    {
     "name": "stdout",
     "output_type": "stream",
     "text": [
      "<class 'pandas.core.frame.DataFrame'>\n",
      "RangeIndex: 3275 entries, 0 to 3274\n",
      "Data columns (total 14 columns):\n",
      " #   Column             Non-Null Count  Dtype  \n",
      "---  ------             --------------  -----  \n",
      " 0   Name               3275 non-null   object \n",
      " 1   Variation          3074 non-null   object \n",
      " 2   DIY                3275 non-null   object \n",
      " 3   Body Customize     3275 non-null   object \n",
      " 4   Pattern Customize  3275 non-null   object \n",
      " 5   Buy                3275 non-null   object \n",
      " 6   Size               3275 non-null   object \n",
      " 7   Miles Price        115 non-null    float64\n",
      " 8   Source             3275 non-null   object \n",
      " 9   Interact           3275 non-null   object \n",
      " 10  Tag                3275 non-null   object \n",
      " 11  Outdoor            3275 non-null   object \n",
      " 12  Catalog            3275 non-null   object \n",
      " 13  VariationCount     3275 non-null   int64  \n",
      "dtypes: float64(1), int64(1), object(12)\n",
      "memory usage: 358.3+ KB\n"
     ]
    }
   ],
   "source": [
    "housewares.info()"
   ]
  },
  {
   "cell_type": "code",
   "execution_count": 644,
   "id": "7b59f956",
   "metadata": {},
   "outputs": [
    {
     "data": {
      "text/html": [
       "<div>\n",
       "<style scoped>\n",
       "    .dataframe tbody tr th:only-of-type {\n",
       "        vertical-align: middle;\n",
       "    }\n",
       "\n",
       "    .dataframe tbody tr th {\n",
       "        vertical-align: top;\n",
       "    }\n",
       "\n",
       "    .dataframe thead th {\n",
       "        text-align: right;\n",
       "    }\n",
       "</style>\n",
       "<table border=\"1\" class=\"dataframe\">\n",
       "  <thead>\n",
       "    <tr style=\"text-align: right;\">\n",
       "      <th></th>\n",
       "      <th>Name</th>\n",
       "      <th>DIY</th>\n",
       "      <th>Body Customize</th>\n",
       "      <th>Pattern Customize</th>\n",
       "      <th>Buy</th>\n",
       "      <th>Size</th>\n",
       "      <th>Miles Price</th>\n",
       "      <th>Source</th>\n",
       "      <th>Interact</th>\n",
       "      <th>Tag</th>\n",
       "      <th>Outdoor</th>\n",
       "      <th>Catalog</th>\n",
       "      <th>VariationCount</th>\n",
       "    </tr>\n",
       "  </thead>\n",
       "  <tbody>\n",
       "    <tr>\n",
       "      <th>0</th>\n",
       "      <td>acoustic guitar</td>\n",
       "      <td>Yes</td>\n",
       "      <td>Yes</td>\n",
       "      <td>No</td>\n",
       "      <td>NFS</td>\n",
       "      <td>1x1</td>\n",
       "      <td>NaN</td>\n",
       "      <td>Crafting</td>\n",
       "      <td>Yes</td>\n",
       "      <td>Musical Instrument</td>\n",
       "      <td>No</td>\n",
       "      <td>Not for sale</td>\n",
       "      <td>7</td>\n",
       "    </tr>\n",
       "    <tr>\n",
       "      <th>1</th>\n",
       "      <td>acoustic guitar</td>\n",
       "      <td>Yes</td>\n",
       "      <td>Yes</td>\n",
       "      <td>No</td>\n",
       "      <td>NFS</td>\n",
       "      <td>1x1</td>\n",
       "      <td>NaN</td>\n",
       "      <td>Crafting</td>\n",
       "      <td>Yes</td>\n",
       "      <td>Musical Instrument</td>\n",
       "      <td>No</td>\n",
       "      <td>Not for sale</td>\n",
       "      <td>7</td>\n",
       "    </tr>\n",
       "    <tr>\n",
       "      <th>2</th>\n",
       "      <td>acoustic guitar</td>\n",
       "      <td>Yes</td>\n",
       "      <td>Yes</td>\n",
       "      <td>No</td>\n",
       "      <td>NFS</td>\n",
       "      <td>1x1</td>\n",
       "      <td>NaN</td>\n",
       "      <td>Crafting</td>\n",
       "      <td>Yes</td>\n",
       "      <td>Musical Instrument</td>\n",
       "      <td>No</td>\n",
       "      <td>Not for sale</td>\n",
       "      <td>7</td>\n",
       "    </tr>\n",
       "    <tr>\n",
       "      <th>3</th>\n",
       "      <td>acoustic guitar</td>\n",
       "      <td>Yes</td>\n",
       "      <td>Yes</td>\n",
       "      <td>No</td>\n",
       "      <td>NFS</td>\n",
       "      <td>1x1</td>\n",
       "      <td>NaN</td>\n",
       "      <td>Crafting</td>\n",
       "      <td>Yes</td>\n",
       "      <td>Musical Instrument</td>\n",
       "      <td>No</td>\n",
       "      <td>Not for sale</td>\n",
       "      <td>7</td>\n",
       "    </tr>\n",
       "    <tr>\n",
       "      <th>4</th>\n",
       "      <td>acoustic guitar</td>\n",
       "      <td>Yes</td>\n",
       "      <td>Yes</td>\n",
       "      <td>No</td>\n",
       "      <td>NFS</td>\n",
       "      <td>1x1</td>\n",
       "      <td>NaN</td>\n",
       "      <td>Crafting</td>\n",
       "      <td>Yes</td>\n",
       "      <td>Musical Instrument</td>\n",
       "      <td>No</td>\n",
       "      <td>Not for sale</td>\n",
       "      <td>7</td>\n",
       "    </tr>\n",
       "  </tbody>\n",
       "</table>\n",
       "</div>"
      ],
      "text/plain": [
       "              Name  DIY Body Customize Pattern Customize  Buy Size  \\\n",
       "0  acoustic guitar  Yes            Yes                No  NFS  1x1   \n",
       "1  acoustic guitar  Yes            Yes                No  NFS  1x1   \n",
       "2  acoustic guitar  Yes            Yes                No  NFS  1x1   \n",
       "3  acoustic guitar  Yes            Yes                No  NFS  1x1   \n",
       "4  acoustic guitar  Yes            Yes                No  NFS  1x1   \n",
       "\n",
       "   Miles Price    Source Interact                 Tag Outdoor       Catalog  \\\n",
       "0          NaN  Crafting      Yes  Musical Instrument      No  Not for sale   \n",
       "1          NaN  Crafting      Yes  Musical Instrument      No  Not for sale   \n",
       "2          NaN  Crafting      Yes  Musical Instrument      No  Not for sale   \n",
       "3          NaN  Crafting      Yes  Musical Instrument      No  Not for sale   \n",
       "4          NaN  Crafting      Yes  Musical Instrument      No  Not for sale   \n",
       "\n",
       "   VariationCount  \n",
       "0               7  \n",
       "1               7  \n",
       "2               7  \n",
       "3               7  \n",
       "4               7  "
      ]
     },
     "execution_count": 644,
     "metadata": {},
     "output_type": "execute_result"
    }
   ],
   "source": [
    "housewares = housewares.drop('Variation', axis=1)\n",
    "housewares.head()"
   ]
  },
  {
   "cell_type": "code",
   "execution_count": 645,
   "id": "97a1e4e6",
   "metadata": {},
   "outputs": [
    {
     "data": {
      "text/html": [
       "<div>\n",
       "<style scoped>\n",
       "    .dataframe tbody tr th:only-of-type {\n",
       "        vertical-align: middle;\n",
       "    }\n",
       "\n",
       "    .dataframe tbody tr th {\n",
       "        vertical-align: top;\n",
       "    }\n",
       "\n",
       "    .dataframe thead th {\n",
       "        text-align: right;\n",
       "    }\n",
       "</style>\n",
       "<table border=\"1\" class=\"dataframe\">\n",
       "  <thead>\n",
       "    <tr style=\"text-align: right;\">\n",
       "      <th></th>\n",
       "      <th>Name</th>\n",
       "      <th>DIY</th>\n",
       "      <th>Body Customize</th>\n",
       "      <th>Pattern Customize</th>\n",
       "      <th>Buy</th>\n",
       "      <th>Size</th>\n",
       "      <th>Miles Price</th>\n",
       "      <th>Source</th>\n",
       "      <th>Interact</th>\n",
       "      <th>Tag</th>\n",
       "      <th>Outdoor</th>\n",
       "      <th>Catalog</th>\n",
       "      <th>VariationCount</th>\n",
       "    </tr>\n",
       "  </thead>\n",
       "  <tbody>\n",
       "    <tr>\n",
       "      <th>0</th>\n",
       "      <td>acoustic guitar</td>\n",
       "      <td>Yes</td>\n",
       "      <td>Yes</td>\n",
       "      <td>No</td>\n",
       "      <td>NFS</td>\n",
       "      <td>1x1</td>\n",
       "      <td>NaN</td>\n",
       "      <td>Crafting</td>\n",
       "      <td>Yes</td>\n",
       "      <td>Musical Instrument</td>\n",
       "      <td>No</td>\n",
       "      <td>Not for sale</td>\n",
       "      <td>7</td>\n",
       "    </tr>\n",
       "    <tr>\n",
       "      <th>1</th>\n",
       "      <td>air circulator</td>\n",
       "      <td>No</td>\n",
       "      <td>No</td>\n",
       "      <td>No</td>\n",
       "      <td>1100</td>\n",
       "      <td>1x1</td>\n",
       "      <td>NaN</td>\n",
       "      <td>Nook's Cranny</td>\n",
       "      <td>Yes</td>\n",
       "      <td>Fan</td>\n",
       "      <td>Yes</td>\n",
       "      <td>For sale</td>\n",
       "      <td>5</td>\n",
       "    </tr>\n",
       "    <tr>\n",
       "      <th>2</th>\n",
       "      <td>alto saxophone</td>\n",
       "      <td>No</td>\n",
       "      <td>No</td>\n",
       "      <td>No</td>\n",
       "      <td>3400</td>\n",
       "      <td>1x1</td>\n",
       "      <td>NaN</td>\n",
       "      <td>Nook's Cranny</td>\n",
       "      <td>Yes</td>\n",
       "      <td>Musical Instrument</td>\n",
       "      <td>No</td>\n",
       "      <td>For sale</td>\n",
       "      <td>1</td>\n",
       "    </tr>\n",
       "    <tr>\n",
       "      <th>3</th>\n",
       "      <td>anatomical model</td>\n",
       "      <td>No</td>\n",
       "      <td>No</td>\n",
       "      <td>No</td>\n",
       "      <td>3500</td>\n",
       "      <td>1x1</td>\n",
       "      <td>NaN</td>\n",
       "      <td>Nook's Cranny</td>\n",
       "      <td>No</td>\n",
       "      <td>Hospital</td>\n",
       "      <td>No</td>\n",
       "      <td>For sale</td>\n",
       "      <td>1</td>\n",
       "    </tr>\n",
       "    <tr>\n",
       "      <th>4</th>\n",
       "      <td>anchor statue</td>\n",
       "      <td>No</td>\n",
       "      <td>Yes</td>\n",
       "      <td>No</td>\n",
       "      <td>NFS</td>\n",
       "      <td>1x1</td>\n",
       "      <td>NaN</td>\n",
       "      <td>Fishing Tourney</td>\n",
       "      <td>No</td>\n",
       "      <td>Seaside</td>\n",
       "      <td>Yes</td>\n",
       "      <td>Not for sale</td>\n",
       "      <td>6</td>\n",
       "    </tr>\n",
       "  </tbody>\n",
       "</table>\n",
       "</div>"
      ],
      "text/plain": [
       "               Name  DIY Body Customize Pattern Customize   Buy Size  \\\n",
       "0   acoustic guitar  Yes            Yes                No   NFS  1x1   \n",
       "1    air circulator   No             No                No  1100  1x1   \n",
       "2    alto saxophone   No             No                No  3400  1x1   \n",
       "3  anatomical model   No             No                No  3500  1x1   \n",
       "4     anchor statue   No            Yes                No   NFS  1x1   \n",
       "\n",
       "   Miles Price           Source Interact                 Tag Outdoor  \\\n",
       "0          NaN         Crafting      Yes  Musical Instrument      No   \n",
       "1          NaN    Nook's Cranny      Yes                 Fan     Yes   \n",
       "2          NaN    Nook's Cranny      Yes  Musical Instrument      No   \n",
       "3          NaN    Nook's Cranny       No            Hospital      No   \n",
       "4          NaN  Fishing Tourney       No             Seaside     Yes   \n",
       "\n",
       "        Catalog  VariationCount  \n",
       "0  Not for sale               7  \n",
       "1      For sale               5  \n",
       "2      For sale               1  \n",
       "3      For sale               1  \n",
       "4  Not for sale               6  "
      ]
     },
     "execution_count": 645,
     "metadata": {},
     "output_type": "execute_result"
    }
   ],
   "source": [
    "housewares = housewares.drop_duplicates().reset_index()\n",
    "housewares = housewares.drop('index', axis = 1)\n",
    "housewares.head()"
   ]
  },
  {
   "cell_type": "markdown",
   "id": "87cf72b6",
   "metadata": {},
   "source": [
    "##  Cleaning up columns and removing Miles Only items\n",
    "\n",
    "Now that the columns have been decided on, it's time to clean up columns with NaN values, convert Yes/No entries to True/False, change the datatypes for each column so they can be analyzed, and separate the dataset into items that cost Miles and items that cost Bells."
   ]
  },
  {
   "cell_type": "code",
   "execution_count": 646,
   "id": "241441ee",
   "metadata": {},
   "outputs": [],
   "source": [
    "housewares = housewares.replace('Yes', True)\n",
    "housewares = housewares.replace('No', False)"
   ]
  },
  {
   "cell_type": "code",
   "execution_count": 647,
   "id": "d4d5c150",
   "metadata": {},
   "outputs": [
    {
     "data": {
      "text/plain": [
       "(546, 13)"
      ]
     },
     "execution_count": 647,
     "metadata": {},
     "output_type": "execute_result"
    }
   ],
   "source": [
    "housewares.head()\n",
    "housewares.shape"
   ]
  },
  {
   "cell_type": "code",
   "execution_count": 648,
   "id": "00e5b989",
   "metadata": {},
   "outputs": [
    {
     "data": {
      "text/plain": [
       "NFS       292\n",
       "3500        9\n",
       "1100        8\n",
       "2700        8\n",
       "3000        7\n",
       "         ... \n",
       "260000      1\n",
       "23000       1\n",
       "29000       1\n",
       "73000       1\n",
       "500         1\n",
       "Name: Buy, Length: 114, dtype: int64"
      ]
     },
     "execution_count": 648,
     "metadata": {},
     "output_type": "execute_result"
    }
   ],
   "source": [
    "housewares['Buy'].value_counts()\n",
    "#The number of items we're considering will be 546-292=254"
   ]
  },
  {
   "cell_type": "code",
   "execution_count": 649,
   "id": "192c91ec",
   "metadata": {},
   "outputs": [
    {
     "data": {
      "text/plain": [
       "1000.0    5\n",
       "2000.0    5\n",
       "5000.0    4\n",
       "4000.0    4\n",
       "2400.0    3\n",
       "3000.0    2\n",
       "Name: Miles Price, dtype: int64"
      ]
     },
     "execution_count": 649,
     "metadata": {},
     "output_type": "execute_result"
    }
   ],
   "source": [
    "housewares['Miles Price'].value_counts()"
   ]
  },
  {
   "cell_type": "code",
   "execution_count": 650,
   "id": "b9ce8700",
   "metadata": {},
   "outputs": [],
   "source": [
    "housewares['Miles Price'] = housewares['Miles Price'].replace(np.nan, 'NFS with Miles')"
   ]
  },
  {
   "cell_type": "code",
   "execution_count": 651,
   "id": "d70e0840",
   "metadata": {},
   "outputs": [
    {
     "name": "stdout",
     "output_type": "stream",
     "text": [
      "<class 'pandas.core.frame.DataFrame'>\n",
      "RangeIndex: 546 entries, 0 to 545\n",
      "Data columns (total 13 columns):\n",
      " #   Column             Non-Null Count  Dtype \n",
      "---  ------             --------------  ----- \n",
      " 0   Name               546 non-null    object\n",
      " 1   DIY                546 non-null    bool  \n",
      " 2   Body Customize     546 non-null    bool  \n",
      " 3   Pattern Customize  546 non-null    bool  \n",
      " 4   Buy                546 non-null    object\n",
      " 5   Size               546 non-null    object\n",
      " 6   Miles Price        546 non-null    object\n",
      " 7   Source             546 non-null    object\n",
      " 8   Interact           546 non-null    object\n",
      " 9   Tag                546 non-null    object\n",
      " 10  Outdoor            546 non-null    bool  \n",
      " 11  Catalog            546 non-null    object\n",
      " 12  VariationCount     546 non-null    int64 \n",
      "dtypes: bool(4), int64(1), object(8)\n",
      "memory usage: 40.6+ KB\n"
     ]
    }
   ],
   "source": [
    "housewares.info()"
   ]
  },
  {
   "cell_type": "markdown",
   "id": "757b11a6",
   "metadata": {},
   "source": [
    "The datatypes should be as follows:\n",
    "\n",
    "| Column | Wanted Datatype | Already Correct? |\n",
    "| --- | --- | --- |\n",
    "| Name | String | No |\n",
    "| DIY | Bool | Yes | \n",
    "| Body Customize | Bool | Yes | \n",
    "| Pattern Customize | Bool | Yes |\n",
    "| Buy | Int | No |\n",
    "| Size | Int | No | \n",
    "| Miles Price | Int | No |\n",
    "| Source | String | No |\n",
    "| Interact | Bool | No |\n",
    "| Tag | String | No |\n",
    "| Outdoor | Bool | Yes |\n",
    "| Speaker Type | String | No |\n",
    "| Lighting Type | String | No | \n",
    "| Catalog | Bool | No |\n",
    "| VariationCount | Int | Yes |"
   ]
  },
  {
   "cell_type": "code",
   "execution_count": 652,
   "id": "2f11a951",
   "metadata": {},
   "outputs": [
    {
     "name": "stdout",
     "output_type": "stream",
     "text": [
      "<class 'pandas.core.frame.DataFrame'>\n",
      "Int64Index: 23 entries, 102 to 515\n",
      "Data columns (total 13 columns):\n",
      " #   Column             Non-Null Count  Dtype \n",
      "---  ------             --------------  ----- \n",
      " 0   Name               23 non-null     object\n",
      " 1   DIY                23 non-null     bool  \n",
      " 2   Body Customize     23 non-null     bool  \n",
      " 3   Pattern Customize  23 non-null     bool  \n",
      " 4   Buy                23 non-null     object\n",
      " 5   Size               23 non-null     object\n",
      " 6   Miles Price        23 non-null     object\n",
      " 7   Source             23 non-null     object\n",
      " 8   Interact           23 non-null     object\n",
      " 9   Tag                23 non-null     object\n",
      " 10  Outdoor            23 non-null     bool  \n",
      " 11  Catalog            23 non-null     object\n",
      " 12  VariationCount     23 non-null     int64 \n",
      "dtypes: bool(4), int64(1), object(8)\n",
      "memory usage: 1.9+ KB\n"
     ]
    }
   ],
   "source": [
    "nfs_bool = housewares['Buy'] == 'NFS'\n",
    "bells_bool = housewares['Miles Price'] != 'NFS with Miles'\n",
    "housewares_m = housewares[nfs_bool & bells_bool]\n",
    "housewares_m.info()"
   ]
  },
  {
   "cell_type": "code",
   "execution_count": 653,
   "id": "d6387359",
   "metadata": {
    "scrolled": false
   },
   "outputs": [
    {
     "name": "stdout",
     "output_type": "stream",
     "text": [
      "<class 'pandas.core.frame.DataFrame'>\n",
      "Int64Index: 254 entries, 1 to 544\n",
      "Data columns (total 13 columns):\n",
      " #   Column             Non-Null Count  Dtype \n",
      "---  ------             --------------  ----- \n",
      " 0   Name               254 non-null    object\n",
      " 1   DIY                254 non-null    bool  \n",
      " 2   Body Customize     254 non-null    bool  \n",
      " 3   Pattern Customize  254 non-null    bool  \n",
      " 4   Buy                254 non-null    object\n",
      " 5   Size               254 non-null    object\n",
      " 6   Miles Price        254 non-null    object\n",
      " 7   Source             254 non-null    object\n",
      " 8   Interact           254 non-null    object\n",
      " 9   Tag                254 non-null    object\n",
      " 10  Outdoor            254 non-null    bool  \n",
      " 11  Catalog            254 non-null    object\n",
      " 12  VariationCount     254 non-null    int64 \n",
      "dtypes: bool(4), int64(1), object(8)\n",
      "memory usage: 20.8+ KB\n"
     ]
    }
   ],
   "source": [
    "housewares_b = housewares[housewares['Buy'] != 'NFS']\n",
    "housewares_b.drop('Miles Price', axis = 1)\n",
    "housewares_b.info()"
   ]
  },
  {
   "cell_type": "code",
   "execution_count": 654,
   "id": "2caa0b4d",
   "metadata": {},
   "outputs": [
    {
     "name": "stdout",
     "output_type": "stream",
     "text": [
      "<class 'pandas.core.frame.DataFrame'>\n",
      "Int64Index: 254 entries, 1 to 544\n",
      "Data columns (total 13 columns):\n",
      " #   Column             Non-Null Count  Dtype \n",
      "---  ------             --------------  ----- \n",
      " 0   Name               254 non-null    object\n",
      " 1   DIY                254 non-null    bool  \n",
      " 2   Body Customize     254 non-null    bool  \n",
      " 3   Pattern Customize  254 non-null    bool  \n",
      " 4   Buy                254 non-null    int32 \n",
      " 5   Size               254 non-null    object\n",
      " 6   Miles Price        254 non-null    object\n",
      " 7   Source             254 non-null    object\n",
      " 8   Interact           254 non-null    bool  \n",
      " 9   Tag                254 non-null    object\n",
      " 10  Outdoor            254 non-null    bool  \n",
      " 11  Catalog            254 non-null    bool  \n",
      " 12  VariationCount     254 non-null    int64 \n",
      "dtypes: bool(6), int32(1), int64(1), object(5)\n",
      "memory usage: 16.4+ KB\n"
     ]
    }
   ],
   "source": [
    "#we'll cast the Size column as a string for now but will change it to int using eval later\n",
    "housewares_b = housewares_b.astype({\"Name\": str, \"Buy\": int, \"Size\": str, \"Source\": str, \"Interact\": bool, \"Tag\": str, \"Catalog\": bool})\n",
    "housewares_b.info()"
   ]
  },
  {
   "cell_type": "code",
   "execution_count": 655,
   "id": "a2b4ee0d",
   "metadata": {},
   "outputs": [
    {
     "name": "stdout",
     "output_type": "stream",
     "text": [
      "1      1\n",
      "2      1\n",
      "3      1\n",
      "6      4\n",
      "7      1\n",
      "      ..\n",
      "516    1\n",
      "540    1\n",
      "541    2\n",
      "543    1\n",
      "544    1\n",
      "Name: Size, Length: 254, dtype: int32\n"
     ]
    }
   ],
   "source": [
    "housewares_b['Size'] = housewares_b['Size'].replace(\"x\", \"*\", regex=True)\n",
    "housewares_b['Size'] = housewares_b['Size'].map(pd.eval).astype(int)\n",
    "print(housewares_b['Size'])"
   ]
  },
  {
   "cell_type": "markdown",
   "id": "dbaff766",
   "metadata": {},
   "source": [
    "Now we'll check each column to make sure that all the columns contain useful information. If it has all the same values or almost all the same values, we'll drop it from the dataset since it won't give us any important information."
   ]
  },
  {
   "cell_type": "code",
   "execution_count": 656,
   "id": "3b513a68",
   "metadata": {},
   "outputs": [
    {
     "data": {
      "text/plain": [
       "False    254\n",
       "Name: DIY, dtype: int64"
      ]
     },
     "execution_count": 656,
     "metadata": {},
     "output_type": "execute_result"
    }
   ],
   "source": [
    "housewares_b['DIY'].value_counts()"
   ]
  },
  {
   "cell_type": "code",
   "execution_count": 657,
   "id": "589cedca",
   "metadata": {},
   "outputs": [
    {
     "data": {
      "text/plain": [
       "False    246\n",
       "True       8\n",
       "Name: Body Customize, dtype: int64"
      ]
     },
     "execution_count": 657,
     "metadata": {},
     "output_type": "execute_result"
    }
   ],
   "source": [
    "housewares_b['Body Customize'].value_counts()"
   ]
  },
  {
   "cell_type": "code",
   "execution_count": 658,
   "id": "ecee3e25",
   "metadata": {},
   "outputs": [
    {
     "data": {
      "text/plain": [
       "True    254\n",
       "Name: Catalog, dtype: int64"
      ]
     },
     "execution_count": 658,
     "metadata": {},
     "output_type": "execute_result"
    }
   ],
   "source": [
    "housewares_b['Catalog'].value_counts()"
   ]
  },
  {
   "cell_type": "markdown",
   "id": "1072205e",
   "metadata": {},
   "source": [
    "The DIY and Catalog columns have the same value for every object and the Body Customize column is only different for 8 items, giving us very little information. So we'll drop them. \n",
    "\n",
    "We'll also drop the Miles Price column since we've isolated only the items that are bought with Bells"
   ]
  },
  {
   "cell_type": "code",
   "execution_count": 659,
   "id": "c5488c7e",
   "metadata": {},
   "outputs": [
    {
     "name": "stdout",
     "output_type": "stream",
     "text": [
      "<class 'pandas.core.frame.DataFrame'>\n",
      "Int64Index: 254 entries, 1 to 544\n",
      "Data columns (total 9 columns):\n",
      " #   Column             Non-Null Count  Dtype \n",
      "---  ------             --------------  ----- \n",
      " 0   Name               254 non-null    object\n",
      " 1   Pattern Customize  254 non-null    bool  \n",
      " 2   Buy                254 non-null    int32 \n",
      " 3   Size               254 non-null    int32 \n",
      " 4   Source             254 non-null    object\n",
      " 5   Interact           254 non-null    bool  \n",
      " 6   Tag                254 non-null    object\n",
      " 7   Outdoor            254 non-null    bool  \n",
      " 8   VariationCount     254 non-null    int64 \n",
      "dtypes: bool(3), int32(2), int64(1), object(3)\n",
      "memory usage: 12.7+ KB\n"
     ]
    }
   ],
   "source": [
    "housewares_b = housewares_b.drop(['DIY', 'Body Customize', 'Catalog', 'Miles Price'], axis=1)\n",
    "housewares_b.info()"
   ]
  },
  {
   "cell_type": "markdown",
   "id": "b53ff60d",
   "metadata": {},
   "source": [
    "For the remaining object datatype columns, we'll convert them to numeric columns using dummy columns."
   ]
  },
  {
   "cell_type": "code",
   "execution_count": 660,
   "id": "3c27c710",
   "metadata": {},
   "outputs": [],
   "source": [
    "dummy_cols = pd.DataFrame()\n",
    "dummy = pd.get_dummies(housewares_b['Source'])\n",
    "housewares_b = pd.concat([housewares_b, dummy], axis=1)\n",
    "del housewares_b['Source']"
   ]
  },
  {
   "cell_type": "code",
   "execution_count": 661,
   "id": "2b41d509",
   "metadata": {},
   "outputs": [
    {
     "name": "stdout",
     "output_type": "stream",
     "text": [
      "<class 'pandas.core.frame.DataFrame'>\n",
      "Int64Index: 254 entries, 1 to 544\n",
      "Data columns (total 12 columns):\n",
      " #   Column                   Non-Null Count  Dtype \n",
      "---  ------                   --------------  ----- \n",
      " 0   Name                     254 non-null    object\n",
      " 1   Pattern Customize        254 non-null    bool  \n",
      " 2   Buy                      254 non-null    int32 \n",
      " 3   Size                     254 non-null    int32 \n",
      " 4   Interact                 254 non-null    bool  \n",
      " 5   Tag                      254 non-null    object\n",
      " 6   Outdoor                  254 non-null    bool  \n",
      " 7   VariationCount           254 non-null    int64 \n",
      " 8   Nook Shopping Promotion  254 non-null    uint8 \n",
      " 9   Nook's Cranny            254 non-null    uint8 \n",
      " 10  Starting items           254 non-null    uint8 \n",
      " 11  Wedding Season           254 non-null    uint8 \n",
      "dtypes: bool(3), int32(2), int64(1), object(2), uint8(4)\n",
      "memory usage: 11.7+ KB\n"
     ]
    }
   ],
   "source": [
    "housewares_b.info()"
   ]
  },
  {
   "cell_type": "code",
   "execution_count": 662,
   "id": "1012b77e",
   "metadata": {},
   "outputs": [
    {
     "data": {
      "text/plain": [
       "0    246\n",
       "1      8\n",
       "Name: Wedding Season, dtype: int64"
      ]
     },
     "execution_count": 662,
     "metadata": {},
     "output_type": "execute_result"
    }
   ],
   "source": [
    "housewares_b['Wedding Season'].value_counts()"
   ]
  },
  {
   "cell_type": "code",
   "execution_count": 663,
   "id": "1c702951",
   "metadata": {},
   "outputs": [
    {
     "data": {
      "text/plain": [
       "0    253\n",
       "1      1\n",
       "Name: Starting items, dtype: int64"
      ]
     },
     "execution_count": 663,
     "metadata": {},
     "output_type": "execute_result"
    }
   ],
   "source": [
    "housewares_b['Starting items'].value_counts()"
   ]
  },
  {
   "cell_type": "markdown",
   "id": "ac983ab9",
   "metadata": {},
   "source": [
    "The Wedding Season and Starting Items columns do not contain useful information since less than 10 items are wedding/starting items, so we'll drop the columns."
   ]
  },
  {
   "cell_type": "code",
   "execution_count": 664,
   "id": "05f32040",
   "metadata": {},
   "outputs": [
    {
     "name": "stdout",
     "output_type": "stream",
     "text": [
      "Index(['Name', 'DIY', 'Body Customize', 'Pattern Customize', 'Buy', 'Size',\n",
      "       'Miles Price', 'Source', 'Interact', 'Tag', 'Outdoor', 'Catalog',\n",
      "       'VariationCount'],\n",
      "      dtype='object')\n"
     ]
    }
   ],
   "source": [
    "housewares_b = housewares_b.drop(['Wedding Season', 'Starting items'], axis = 1)\n",
    "print(housewares.columns)"
   ]
  },
  {
   "cell_type": "markdown",
   "id": "59fbb907",
   "metadata": {},
   "source": [
    "## Determining features\n",
    "\n",
    "Now that we have our final dataset of houseware items that can be bought with bells, it's time to start exploring the correlations between each feature and the price to figure out how to build our model.\n",
    "\n",
    "We'll first start by splitting our dataset into two, getting the correlation matrix, and then mapping out the Pearson Correlation Coefficient for each set."
   ]
  },
  {
   "cell_type": "code",
   "execution_count": 665,
   "id": "bae3376a",
   "metadata": {},
   "outputs": [],
   "source": [
    "train = housewares_b[:127]\n",
    "test = housewares_b[127:]"
   ]
  },
  {
   "cell_type": "code",
   "execution_count": 666,
   "id": "202f2c3a",
   "metadata": {},
   "outputs": [
    {
     "name": "stdout",
     "output_type": "stream",
     "text": [
      "                         Pattern Customize       Buy      Size  Interact  \\\n",
      "Pattern Customize                 1.000000 -0.130560  0.040048  0.006320   \n",
      "Buy                              -0.130560  1.000000  0.256554  0.016388   \n",
      "Size                              0.040048  0.256554  1.000000 -0.158658   \n",
      "Interact                          0.006320  0.016388 -0.158658  1.000000   \n",
      "Outdoor                          -0.002124 -0.177570 -0.131892 -0.011668   \n",
      "VariationCount                    0.696413 -0.062042 -0.093517  0.069026   \n",
      "Nook Shopping Promotion          -0.065240 -0.064075  0.011814 -0.114382   \n",
      "Nook's Cranny                     0.075638  0.075177 -0.030423  0.068331   \n",
      "\n",
      "                          Outdoor  VariationCount  Nook Shopping Promotion  \\\n",
      "Pattern Customize       -0.002124        0.696413                -0.065240   \n",
      "Buy                     -0.177570       -0.062042                -0.064075   \n",
      "Size                    -0.131892       -0.093517                 0.011814   \n",
      "Interact                -0.011668        0.069026                -0.114382   \n",
      "Outdoor                  1.000000       -0.064346                -0.080822   \n",
      "VariationCount          -0.064346        1.000000                -0.093732   \n",
      "Nook Shopping Promotion -0.080822       -0.093732                 1.000000   \n",
      "Nook's Cranny           -0.016485        0.079109                -0.862526   \n",
      "\n",
      "                         Nook's Cranny  \n",
      "Pattern Customize             0.075638  \n",
      "Buy                           0.075177  \n",
      "Size                         -0.030423  \n",
      "Interact                      0.068331  \n",
      "Outdoor                      -0.016485  \n",
      "VariationCount                0.079109  \n",
      "Nook Shopping Promotion      -0.862526  \n",
      "Nook's Cranny                 1.000000  \n"
     ]
    }
   ],
   "source": [
    "train_corr = train.corr()\n",
    "print(train_corr)"
   ]
  },
  {
   "cell_type": "code",
   "execution_count": 679,
   "id": "726f93e9",
   "metadata": {},
   "outputs": [
    {
     "data": {
      "text/plain": [
       "<AxesSubplot:>"
      ]
     },
     "execution_count": 679,
     "metadata": {},
     "output_type": "execute_result"
    },
    {
     "data": {
      "image/png": "[encoded data removed]",
      "text/plain": [
       "<Figure size 432x288 with 2 Axes>"
      ]
     },
     "metadata": {
      "needs_background": "light"
     },
     "output_type": "display_data"
    }
   ],
   "source": [
    "strong_corrs = test_corr[test_corr > .1]\n",
    "corrmat = test[strong_corrs.index].corr()\n",
    "sns.heatmap(corrmat)"
   ]
  },
  {
   "cell_type": "code",
   "execution_count": 687,
   "id": "6a9f58a9",
   "metadata": {},
   "outputs": [
    {
     "data": {
      "text/plain": [
       "<AxesSubplot:>"
      ]
     },
     "execution_count": 687,
     "metadata": {},
     "output_type": "execute_result"
    },
    {
     "data": {
      "image/png": "[encoded data removed]",
      "text/plain": [
       "<Figure size 432x288 with 2 Axes>"
      ]
     },
     "metadata": {
      "needs_background": "light"
     },
     "output_type": "display_data"
    }
   ],
   "source": [
    "sorted_corrs = train_corr['Buy'].abs().sort_values()\n",
    "strong_corrs = sorted_corrs[sorted_corrs > .1]\n",
    "corrmat = train[strong_corrs.index].corr()\n",
    "sns.heatmap(corrmat)"
   ]
  },
  {
   "cell_type": "code",
   "execution_count": 668,
   "id": "edb6fa0e",
   "metadata": {},
   "outputs": [
    {
     "name": "stdout",
     "output_type": "stream",
     "text": [
      "                         Pattern Customize       Buy      Size  Interact  \\\n",
      "Pattern Customize                 1.000000 -0.139263  0.103121  0.021674   \n",
      "Buy                              -0.139263  1.000000  0.231103 -0.004472   \n",
      "Size                              0.103121  0.231103  1.000000  0.002903   \n",
      "Interact                          0.021674 -0.004472  0.002903  1.000000   \n",
      "Outdoor                          -0.008779 -0.145360 -0.094975 -0.105369   \n",
      "VariationCount                    0.659231 -0.107400 -0.071881  0.009807   \n",
      "Nook Shopping Promotion          -0.059485 -0.039416 -0.004825 -0.034037   \n",
      "Nook's Cranny                     0.061569 -0.026910 -0.114736  0.078668   \n",
      "\n",
      "                          Outdoor  VariationCount  Nook Shopping Promotion  \\\n",
      "Pattern Customize       -0.008779        0.659231                -0.059485   \n",
      "Buy                     -0.145360       -0.107400                -0.039416   \n",
      "Size                    -0.094975       -0.071881                -0.004825   \n",
      "Interact                -0.105369        0.009807                -0.034037   \n",
      "Outdoor                  1.000000        0.026504                -0.059485   \n",
      "VariationCount           0.026504        1.000000                -0.074007   \n",
      "Nook Shopping Promotion -0.059485       -0.074007                 1.000000   \n",
      "Nook's Cranny            0.137485        0.121081                -0.432666   \n",
      "\n",
      "                         Nook's Cranny  \n",
      "Pattern Customize             0.061569  \n",
      "Buy                          -0.026910  \n",
      "Size                         -0.114736  \n",
      "Interact                      0.078668  \n",
      "Outdoor                       0.137485  \n",
      "VariationCount                0.121081  \n",
      "Nook Shopping Promotion      -0.432666  \n",
      "Nook's Cranny                 1.000000  \n"
     ]
    }
   ],
   "source": [
    "test_corr = test.corr()\n",
    "print(test_corr)"
   ]
  },
  {
   "cell_type": "code",
   "execution_count": 680,
   "id": "f6cf786a",
   "metadata": {},
   "outputs": [
    {
     "data": {
      "text/plain": [
       "<AxesSubplot:>"
      ]
     },
     "execution_count": 680,
     "metadata": {},
     "output_type": "execute_result"
    },
    {
     "data": {
      "image/png": "[encoded data removed]",
      "text/plain": [
       "<Figure size 432x288 with 2 Axes>"
      ]
     },
     "metadata": {
      "needs_background": "light"
     },
     "output_type": "display_data"
    }
   ],
   "source": [
    "strong_corrs = test_corr[test_corr > .1]\n",
    "corrmat = test[strong_corrs.index].corr()\n",
    "sns.heatmap(corrmat)"
   ]
  },
  {
   "cell_type": "code",
   "execution_count": 683,
   "id": "94707b97",
   "metadata": {},
   "outputs": [
    {
     "data": {
      "text/plain": [
       "<AxesSubplot:>"
      ]
     },
     "execution_count": 683,
     "metadata": {},
     "output_type": "execute_result"
    },
    {
     "data": {
      "image/png": "[encoded data removed]",
      "text/plain": [
       "<Figure size 432x288 with 2 Axes>"
      ]
     },
     "metadata": {
      "needs_background": "light"
     },
     "output_type": "display_data"
    }
   ],
   "source": [
    "sorted_corrs = test_corr['Buy'].abs().sort_values()\n",
    "strong_corrs = sorted_corrs[sorted_corrs > .1]\n",
    "corrmat = test[strong_corrs.index].corr()\n",
    "sns.heatmap(corrmat)"
   ]
  },
  {
   "cell_type": "markdown",
   "id": "fe7d8962",
   "metadata": {},
   "source": [
    "## KNN Single Variate Model\n",
    "\n",
    "Looking at both the train and test dataset correlation maps, it looks like Size is the most correlated with the price of each item. We'll start by creating a KNN model using just the Size to predict the price of the item."
   ]
  }
 ],
 "metadata": {
  "celltoolbar": "Raw Cell Format",
  "kernelspec": {
   "display_name": "Python 3 (ipykernel)",
   "language": "python",
   "name": "python3"
  },
  "language_info": {
   "codemirror_mode": {
    "name": "ipython",
    "version": 3
   },
   "file_extension": ".py",
   "mimetype": "text/x-python",
   "name": "python",
   "nbconvert_exporter": "python",
   "pygments_lexer": "ipython3",
   "version": "3.9.7"
  }
 },
 "nbformat": 4,
 "nbformat_minor": 5
}
